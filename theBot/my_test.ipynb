{
 "cells": [
  {
   "cell_type": "code",
   "execution_count": null,
   "id": "7947e7ab-430a-4f7d-b00b-567108992d60",
   "metadata": {},
   "outputs": [],
   "source": [
    "########################################################################################\n",
    "###########                       Get All Tickers                            ###########\n",
    "########################################################################################"
   ]
  },
  {
   "cell_type": "code",
   "execution_count": null,
   "id": "c5565be4-893a-42e8-b45c-04933d6c4358",
   "metadata": {},
   "outputs": [],
   "source": [
    "import trade_bot.utils.enums as const\n",
    "import pandas as pd\n",
    "from pybitget.exceptions import BitgetAPIException\n",
    "from pybitget import Client\n",
    "\n",
    "client = Client(const.API_KEY, const.SECRET_KEY, const.API_PASSPHRASE, verbose=True)\n",
    "TYPE = 'usdt-futures'  # = 'susdt-futures' for DEMO\n",
    "tickers = client.mix_get_all_tickers(TYPE)\n",
    "df0 = pd.DataFrame(tickers.get('data'))\n",
    "# to select the symbol, one symbol per row \n",
    "line_row = 0\n",
    "symbol = df0.loc[line_row].iloc[0]\n",
    "lastprice = df0.loc[line_row].loc['lastPr']\n",
    "askprice = df0.loc[line_row].loc['askPr']\n",
    "bidprice = df0.loc[line_row].loc['bidPr']\n",
    "markprice = df0.loc[line_row].loc['markPrice']\n",
    "holdingAmount = df0.loc[line_row].loc['holdingAmount']\n",
    "print(f'the symbol is {symbol}')\n",
    "print(f'Get All Tickers last price {lastprice}')\n",
    "print(f'Get All Tickers ask price {askprice}')\n",
    "print(f'Get All Tickers bid price {bidprice}')\n",
    "print(f'Get All Tickers mark price {markprice}')\n",
    "print(f'Get All Tickers holding Amount {holdingAmount} the current positions in the unit of number of coins traded')\n",
    "#df0.head(5)\n",
    "\n",
    "accounts = client.mix_get_accounts(const.PRODUCT_TYPE_USED)\n",
    "total_usdt = float(accounts.get('data')[0].get('available'))\n"
   ]
  },
  {
   "cell_type": "code",
   "execution_count": null,
   "id": "60940876-8c0a-42ec-a84d-725fcd9bceae",
   "metadata": {},
   "outputs": [],
   "source": [
    "########################################################################################\n",
    "###########                   Get Candlestick Data                           ###########\n",
    "#                                    Market                                            #\n",
    "########################################################################################"
   ]
  },
  {
   "cell_type": "code",
   "execution_count": null,
   "id": "8600b9f8-6530-43a2-bcb4-29d213bd4a64",
   "metadata": {},
   "outputs": [],
   "source": [
    "import time\n",
    "endTime = int(time.time() * 1000)\n",
    "\n",
    "# x 50 pour const.MIN_CANDLES_FOR_INDICATORS\n",
    "freq_5m = '5m'\n",
    "freq_5m_ms = 5 * 60 * 1000 * 50\n",
    "\n",
    "freq_1h = '1H'\n",
    "freq_1h_ms = 1 * 60 * 60 * 1000 * 50\n",
    "\n",
    "freq_6h = '6H'\n",
    "freq_6h_ms = 6 * 60 * 60 * 1000 * 50\n",
    "\n",
    "freq_1D = '1D'\n",
    "freq_1D_ms = 1 * 24 * 60 * 60 * 1000 * 50 \n",
    "\n",
    "startTime = endTime - freq_1D_ms\n",
    "\n",
    "candles = client.mix_get_candles(symbol, TYPE, freq_5m, startTime, endTime, 'mark')\n",
    "columns = ['Date', 'open', 'high', 'low', 'close', 'volume', 'volume Currency']\n",
    "df10 = pd.DataFrame(candles.get('data'), columns=columns)\n",
    "df_lastrow = pd.DataFrame(df10.iloc[-1])\n",
    "kcC = df10.iloc[-1, df10.columns.get_loc('close')]\n",
    "print(f'Get Candlestick Data mark close price {kcC}')\n",
    "\n",
    "#df_lastrow.tail(7)"
   ]
  },
  {
   "cell_type": "code",
   "execution_count": null,
   "id": "965c2eec-64e9-4309-82b9-cabaeb8d86fb",
   "metadata": {},
   "outputs": [],
   "source": [
    "##########################################################################################\n",
    "###########                   Get Merge Market Depth                           ###########\n",
    "#                                  Asks & Bids                                           #                 \n",
    "##########################################################################################"
   ]
  },
  {
   "cell_type": "code",
   "execution_count": null,
   "id": "5358c602",
   "metadata": {},
   "outputs": [],
   "source": [
    "\n",
    "\n",
    "bids_asks = client.mix_get_merge_depth('ENJUSDT', TYPE,'scale0', 'max')\n",
    "df2_ask = pd.DataFrame(bids_asks.get('data')['asks'])\n",
    "print(f'buy order {df2_ask.head(10)}\\n')\n",
    "\n",
    "df2_bid = pd.DataFrame(bids_asks.get('data')['bids'])\n",
    "print(f'sell order {df2_bid.head(10)}')"
   ]
  },
  {
   "cell_type": "code",
   "execution_count": null,
   "id": "21120821-192f-4d73-b675-5f537301138f",
   "metadata": {},
   "outputs": [],
   "source": [
    "########################################################################################\n",
    "###########                    Get Contract Config                           ###########\n",
    "########################################################################################"
   ]
  },
  {
   "cell_type": "code",
   "execution_count": null,
   "id": "508b7d57-7d8d-4969-95ed-2ed6a57a5407",
   "metadata": {},
   "outputs": [],
   "source": [
    "# contrat_config_demo for demo only without symbol\n",
    "#contract = myclient.mix_get_contract_config_demo('SUSDT-FUTURES')\n",
    "# contrat_config for production with symbol\n",
    "\n",
    "#contract = client.mix_get_contract_config(productType=TYPE)\n",
    "\n",
    "contract = client.mix_get_contract_config(productType=TYPE, symbol='ARUSDT')\n",
    "df5 = pd.DataFrame(contract.get('data'))\n",
    "df5.head()"
   ]
  },
  {
   "cell_type": "code",
   "execution_count": 1,
   "id": "70cfac9c",
   "metadata": {},
   "outputs": [
    {
     "name": "stdout",
     "output_type": "stream",
     "text": [
      "lastprice = 0.0815\n",
      "askprice = 0.0815\n",
      "bidprice = 0.0814\n",
      "markprice = 0.0815\n",
      "askSize = 17669.6\n",
      "bidSize = 16506.7\n",
      "-------------------\n",
      "-------------------\n",
      "close_price = 0.0815\n",
      "-------------------\n",
      "0.0824 2039178.3\n",
      "0.0823 2131130.3\n",
      "0.0822 2359368.7\n",
      "0.0821 2454138.6\n",
      "0.0820 2128074.3\n",
      "0.0819   48090.6\n",
      "0.0818    1819.6\n",
      "0.0817  145635.3\n",
      "0.0816   46540.2\n",
      "0.0815   13628.6\n",
      "buy order\n",
      "-------------------\n",
      "sell order\n",
      "0.0814   27468.0\n",
      "0.0813  156258.9\n",
      "0.0812   32935.2\n",
      "0.0811  158368.5\n",
      "0.0810  157968.8\n",
      "0.0809 2263318.4\n",
      "0.0808 2454142.4\n",
      "0.0807 2335406.4\n",
      "0.0806 2296479.1\n",
      "0.0805 2382188.9\n"
     ]
    }
   ],
   "source": [
    "import trade_bot.utils.enums as const\n",
    "import pandas as pd\n",
    "from pybitget.exceptions import BitgetAPIException\n",
    "from pybitget import Client\n",
    "import time\n",
    "\n",
    "symbol = 'ENJUSDT'\n",
    "client = Client(const.API_KEY, const.SECRET_KEY, const.API_PASSPHRASE, verbose=True)\n",
    "TYPE = 'usdt-futures'  # = 'susdt-futures' for DEMO\n",
    "tickers = client.mix_get_single_symbol_ticker(symbol, 'usdt-futures')\n",
    "df0 = pd.DataFrame(tickers.get('data'))\n",
    "print(f\"lastprice = {df0['lastPr'].loc[0]}\")\n",
    "print(f\"askprice = {df0['askPr'].loc[0]}\")\n",
    "print(f\"bidprice = {df0['bidPr'].loc[0]}\")\n",
    "print(f\"markprice = {df0['markPrice'].loc[0]}\")\n",
    "print(f\"askSize = {df0['askSz'].loc[0]}\")\n",
    "print(f\"bidSize = {df0['bidSz'].loc[0]}\")\n",
    "print('-------------------')\n",
    "######################################################\n",
    "\n",
    "endTime = int(time.time() * 1000)\n",
    "\n",
    "# x 50 pour const.MIN_CANDLES_FOR_INDICATORS\n",
    "freq_5m = '5m'\n",
    "freq_5m_ms = 5 * 60 * 1000 * 50\n",
    "\n",
    "freq_1h = '1H'\n",
    "freq_1h_ms = 1 * 60 * 60 * 1000 * 50\n",
    "\n",
    "freq_6h = '6H'\n",
    "freq_6h_ms = 6 * 60 * 60 * 1000 * 50\n",
    "\n",
    "freq_1D = '1D'\n",
    "freq_1D_ms = 1 * 24 * 60 * 60 * 1000 * 50 \n",
    "\n",
    "startTime = endTime - (freq_1h_ms*2)\n",
    "\n",
    "candles = client.mix_get_candles(symbol, TYPE, '2H', startTime, endTime, 'mark')\n",
    "columns = ['Date', 'open', 'high', 'low', 'close', 'volume', 'volume Currency']\n",
    "df1 = pd.DataFrame(candles.get('data'), columns=columns)\n",
    "close_price = df1.iloc[-1, df1.columns.get_loc('close')]\n",
    "print('-------------------')\n",
    "print(f'close_price = {close_price}')\n",
    "print('-------------------')\n",
    "###########################################################\n",
    "bids_asks = client.mix_get_merge_depth('ENJUSDT', TYPE,'scale0', 'max')\n",
    "df2_ask = pd.DataFrame(bids_asks.get('data')['asks'])\n",
    "print(f'{df2_ask.head(10).iloc[::-1].to_string(index=False, header=False)}')\n",
    "print('buy order')\n",
    "print('-------------------')\n",
    "print('sell order')\n",
    "df2_bid = pd.DataFrame(bids_asks.get('data')['bids'])\n",
    "print(f'{df2_bid.head(10).to_string(index=False, header=False)}')\n"
   ]
  },
  {
   "cell_type": "code",
   "execution_count": 2,
   "id": "89551f44",
   "metadata": {},
   "outputs": [
    {
     "name": "stdout",
     "output_type": "stream",
     "text": [
      "[{'marginCoin': 'USDT', 'symbol': 'ENJUSDT', 'holdSide': 'long', 'openDelegateSize': '0', 'marginSize': '0.803604', 'available': '100.2', 'locked': '0', 'total': '100.2', 'leverage': '10', 'achievedProfits': '0', 'openPriceAvg': '0.0802', 'marginMode': 'isolated', 'posMode': 'hedge_mode', 'unrealizedPL': '0.11022', 'liquidationPrice': '0.073698182561', 'keepMarginRate': '0.02', 'markPrice': '0.0813', 'marginRatio': '0.183638157895', 'breakEvenPrice': '0.08026419852', 'totalFee': '', 'deductedFee': '0.001607208', 'grant': '', 'assetMode': 'single', 'autoMargin': 'off', 'takeProfit': None, 'stopLoss': None, 'takeProfitId': None, 'stopLossId': None, 'cTime': '1743469830545', 'uTime': '1743469830545'}]\n"
     ]
    }
   ],
   "source": [
    "position = client.mix_get_single_position(productType='usdt-futures',symbol='ENJUSDT', marginCoin='USDT')\n",
    "print(position.get('data'))"
   ]
  },
  {
   "cell_type": "code",
   "execution_count": null,
   "id": "9b118569",
   "metadata": {},
   "outputs": [],
   "source": [
    "open_orders = client.mix_get_open_order()"
   ]
  }
 ],
 "metadata": {
  "kernelspec": {
   "display_name": "venv",
   "language": "python",
   "name": "python3"
  },
  "language_info": {
   "codemirror_mode": {
    "name": "ipython",
    "version": 3
   },
   "file_extension": ".py",
   "mimetype": "text/x-python",
   "name": "python",
   "nbconvert_exporter": "python",
   "pygments_lexer": "ipython3",
   "version": "3.13.2"
  }
 },
 "nbformat": 4,
 "nbformat_minor": 5
}
