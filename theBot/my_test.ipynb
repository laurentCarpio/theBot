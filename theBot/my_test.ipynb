{
 "cells": [
  {
   "cell_type": "code",
   "execution_count": null,
   "id": "7947e7ab-430a-4f7d-b00b-567108992d60",
   "metadata": {},
   "outputs": [],
   "source": [
    "########################################################################################\n",
    "###########                       Get All Tickers                            ###########\n",
    "########################################################################################"
   ]
  },
  {
   "cell_type": "code",
   "execution_count": null,
   "id": "c5565be4-893a-42e8-b45c-04933d6c4358",
   "metadata": {},
   "outputs": [],
   "source": [
    "import trade_bot.utils.enums as const\n",
    "import pandas as pd\n",
    "from pybitget.exceptions import BitgetAPIException\n",
    "from pybitget import Client\n",
    "\n",
    "client = Client(const.API_KEY, const.SECRET_KEY, const.API_PASSPHRASE, verbose=True)\n",
    "TYPE = 'usdt-futures'  # = 'susdt-futures' for DEMO\n",
    "tickers = client.mix_get_all_tickers(TYPE)\n",
    "df0 = pd.DataFrame(tickers.get('data'))\n",
    "# to select the symbol, one symbol per row \n",
    "line_row = 0\n",
    "symbol = df0.loc[line_row].iloc[0]\n",
    "lastprice = df0.loc[line_row].loc['lastPr']\n",
    "askprice = df0.loc[line_row].loc['askPr']\n",
    "bidprice = df0.loc[line_row].loc['bidPr']\n",
    "markprice = df0.loc[line_row].loc['markPrice']\n",
    "holdingAmount = df0.loc[line_row].loc['holdingAmount']\n",
    "print(f'the symbol is {symbol}')\n",
    "print(f'Get All Tickers last price {lastprice}')\n",
    "print(f'Get All Tickers ask price {askprice}')\n",
    "print(f'Get All Tickers bid price {bidprice}')\n",
    "print(f'Get All Tickers mark price {markprice}')\n",
    "print(f'Get All Tickers holding Amount {holdingAmount} the current positions in the unit of number of coins traded')\n",
    "#df0.head(5)\n",
    "\n"
   ]
  },
  {
   "cell_type": "code",
   "execution_count": null,
   "id": "60940876-8c0a-42ec-a84d-725fcd9bceae",
   "metadata": {},
   "outputs": [],
   "source": [
    "########################################################################################\n",
    "###########                   Get Candlestick Data                           ###########\n",
    "#                                    Market                                            #\n",
    "########################################################################################"
   ]
  },
  {
   "cell_type": "code",
   "execution_count": null,
   "id": "8600b9f8-6530-43a2-bcb4-29d213bd4a64",
   "metadata": {},
   "outputs": [],
   "source": [
    "import time\n",
    "endTime = int(time.time() * 1000)\n",
    "\n",
    "# x 50 pour const.MIN_CANDLES_FOR_INDICATORS\n",
    "freq_5m = '5m'\n",
    "freq_5m_ms = 5 * 60 * 1000 * 50\n",
    "\n",
    "freq_1h = '1H'\n",
    "freq_1h_ms = 1 * 60 * 60 * 1000 * 50\n",
    "\n",
    "freq_6h = '6H'\n",
    "freq_6h_ms = 6 * 60 * 60 * 1000 * 50\n",
    "\n",
    "freq_1D = '1D'\n",
    "freq_1D_ms = 1 * 24 * 60 * 60 * 1000 * 50 \n",
    "\n",
    "startTime = endTime - freq_1D_ms\n",
    "\n",
    "candles = client.mix_get_candles(symbol, TYPE, freq_5m, startTime, endTime, 'mark')\n",
    "columns = ['Date', 'open', 'high', 'low', 'close', 'volume', 'volume Currency']\n",
    "df10 = pd.DataFrame(candles.get('data'), columns=columns)\n",
    "df_lastrow = pd.DataFrame(df10.iloc[-1])\n",
    "kcC = df10.iloc[-1, df10.columns.get_loc('close')]\n",
    "print(f'Get Candlestick Data mark close price {kcC}')\n",
    "\n",
    "#df_lastrow.tail(7)"
   ]
  },
  {
   "cell_type": "code",
   "execution_count": null,
   "id": "965c2eec-64e9-4309-82b9-cabaeb8d86fb",
   "metadata": {},
   "outputs": [],
   "source": [
    "##########################################################################################\n",
    "###########                   Get Merge Market Depth                           ###########\n",
    "#                                  Asks & Bids                                           #                 \n",
    "##########################################################################################"
   ]
  },
  {
   "cell_type": "code",
   "execution_count": null,
   "id": "5358c602",
   "metadata": {},
   "outputs": [],
   "source": [
    "\n",
    "\n",
    "bids_asks = client.mix_get_merge_depth('ENJUSDT', TYPE,'scale0', 'max')\n",
    "df2_ask = pd.DataFrame(bids_asks.get('data')['asks'])\n",
    "print(f'buy order {df2_ask.head(10)}\\n')\n",
    "\n",
    "df2_bid = pd.DataFrame(bids_asks.get('data')['bids'])\n",
    "print(f'sell order {df2_bid.head(10)}')"
   ]
  },
  {
   "cell_type": "code",
   "execution_count": null,
   "id": "21120821-192f-4d73-b675-5f537301138f",
   "metadata": {},
   "outputs": [],
   "source": [
    "########################################################################################\n",
    "###########                    Get Contract Config                           ###########\n",
    "########################################################################################"
   ]
  },
  {
   "cell_type": "code",
   "execution_count": null,
   "id": "508b7d57-7d8d-4969-95ed-2ed6a57a5407",
   "metadata": {},
   "outputs": [],
   "source": [
    "# contrat_config_demo for demo only without symbol\n",
    "#contract = myclient.mix_get_contract_config_demo('SUSDT-FUTURES')\n",
    "# contrat_config for production with symbol\n",
    "\n",
    "#contract = client.mix_get_contract_config(productType=TYPE)\n",
    "\n",
    "contract = client.mix_get_contract_config(productType=TYPE, symbol='ARUSDT')\n",
    "df5 = pd.DataFrame(contract.get('data'))\n",
    "df5.head()"
   ]
  },
  {
   "cell_type": "code",
   "execution_count": null,
   "id": "70cfac9c",
   "metadata": {},
   "outputs": [],
   "source": [
    "import trade_bot.utils.enums as const\n",
    "import pandas as pd\n",
    "from pybitget.exceptions import BitgetAPIException\n",
    "from pybitget import Client\n",
    "import time\n",
    "\n",
    "symbol = 'ENJUSDT'\n",
    "client = Client(const.API_KEY, const.SECRET_KEY, const.API_PASSPHRASE, verbose=True)\n",
    "TYPE = 'usdt-futures'  # = 'susdt-futures' for DEMO\n",
    "tickers = client.mix_get_single_symbol_ticker(symbol, 'usdt-futures')\n",
    "df0 = pd.DataFrame(tickers.get('data'))\n",
    "print(f\"lastprice = {df0['lastPr'].loc[0]}\")\n",
    "print(f\"askprice = {df0['askPr'].loc[0]}\")\n",
    "print(f\"bidprice = {df0['bidPr'].loc[0]}\")\n",
    "print(f\"markprice = {df0['markPrice'].loc[0]}\")\n",
    "print(f\"askSize = {df0['askSz'].loc[0]}\")\n",
    "print(f\"bidSize = {df0['bidSz'].loc[0]}\")\n",
    "print('-------------------')\n",
    "######################################################\n",
    "\n",
    "endTime = int(time.time() * 1000)\n",
    "\n",
    "# x 50 pour const.MIN_CANDLES_FOR_INDICATORS\n",
    "freq_5m = '5m'\n",
    "freq_5m_ms = 5 * 60 * 1000 * 50\n",
    "\n",
    "freq_1h = '1H'\n",
    "freq_1h_ms = 1 * 60 * 60 * 1000 * 50\n",
    "\n",
    "freq_6h = '6H'\n",
    "freq_6h_ms = 6 * 60 * 60 * 1000 * 50\n",
    "\n",
    "freq_1D = '1D'\n",
    "freq_1D_ms = 1 * 24 * 60 * 60 * 1000 * 50 \n",
    "\n",
    "startTime = endTime - (freq_1h_ms*2)\n",
    "\n",
    "candles = client.mix_get_candles(symbol, TYPE, '2H', startTime, endTime, 'mark')\n",
    "columns = ['Date', 'open', 'high', 'low', 'close', 'volume', 'volume Currency']\n",
    "df1 = pd.DataFrame(candles.get('data'), columns=columns)\n",
    "close_price = df1.iloc[-1, df1.columns.get_loc('close')]\n",
    "print('-------------------')\n",
    "print(f'close_price = {close_price}')\n",
    "print('-------------------')\n",
    "###########################################################\n",
    "bids_asks = client.mix_get_merge_depth('ENJUSDT', TYPE,'scale0', 'max')\n",
    "df2_ask = pd.DataFrame(bids_asks.get('data')['asks'])\n",
    "print(f'{df2_ask.head(10).iloc[::-1].to_string(index=False, header=False)}')\n",
    "print('buy order')\n",
    "print('-------------------')\n",
    "print('sell order')\n",
    "df2_bid = pd.DataFrame(bids_asks.get('data')['bids'])\n",
    "print(f'{df2_bid.head(10).to_string(index=False, header=False)}')\n"
   ]
  },
  {
   "cell_type": "code",
   "execution_count": null,
   "id": "89551f44",
   "metadata": {},
   "outputs": [],
   "source": [
    "##### GET OPEN POSITION ###################\n",
    "import pandas as pd\n",
    "import trade_bot.utils.enums as const\n",
    "from pybitget.exceptions import BitgetAPIException\n",
    "from pybitget import Client\n",
    "\n",
    "client = Client(const.API_KEY, const.SECRET_KEY, const.API_PASSPHRASE, verbose=True)\n",
    "\n",
    "position = client.mix_get_single_position(productType='usdt-futures',symbol='ORDERUSDT', marginCoin='USDT')\n",
    "size_available = position.get('data')[0].get('available')\n",
    "partial_size = float(size_available)/2.0\n",
    "\n",
    "modify_order = client.mix_modify_order('ORDERUSDT', 'usdt-futures','LC-007', orderId='1290996354708570118', \n",
    "                        clientOid=False,\n",
    "                        newSize=partial_size, newPrice='', \n",
    "                        newPresetStopSurplusPrice=False,\n",
    "                        newPresetStopLossPrice=False)\n",
    "\n"
   ]
  },
  {
   "cell_type": "code",
   "execution_count": null,
   "id": "9b118569",
   "metadata": {},
   "outputs": [],
   "source": [
    "import trade_bot.utils.enums as const\n",
    "import pandas as pd\n",
    "from pybitget.exceptions import BitgetAPIException\n",
    "from pybitget import Client\n",
    "\n",
    "client = Client(const.API_KEY, const.SECRET_KEY, const.API_PASSPHRASE, verbose=True)\n",
    "#positions = client.mix_get_all_positions(productType='usdt-futures', marginCoin='USDT')\n",
    "#print(positions.get('data'))\n",
    "detail = client.mix_get_order_details('ORDERUSDT', 'usdt-futures', orderId='1290996354708570118')\n",
    "print(detail.get('data'))\n",
    "\n",
    "\n",
    "pending_order = client.mix_get_pending_trigger_Order(planType='profit_loss', productType='usdt-futures')\n",
    "print(pending_order.get('data'))"
   ]
  },
  {
   "cell_type": "code",
   "execution_count": null,
   "id": "dbb6bf37",
   "metadata": {},
   "outputs": [
    {
     "name": "stderr",
     "output_type": "stream",
     "text": [
      "\u001b[32m2025-04-07 14:08:17.676\u001b[0m | \u001b[1mINFO    \u001b[0m | \u001b[36mpybitget.stream\u001b[0m:\u001b[36mbuild\u001b[0m:\u001b[36m76\u001b[0m - \u001b[1mstart connecting...wss://ws.bitget.com/v2/ws/private\u001b[0m\n",
      "\u001b[32m2025-04-07 14:08:18.176\u001b[0m | \u001b[1mINFO    \u001b[0m | \u001b[36mpybitget.stream\u001b[0m:\u001b[36m__on_open\u001b[0m:\u001b[36m166\u001b[0m - \u001b[1mconnection is success....\u001b[0m\n",
      "\u001b[32m2025-04-07 14:08:18.682\u001b[0m | \u001b[34m\u001b[1mDEBUG   \u001b[0m | \u001b[36mpybitget.stream\u001b[0m:\u001b[36msend_message\u001b[0m:\u001b[36m134\u001b[0m - \u001b[34m\u001b[1m{\"op\": \"login\", \"args\": [{\"api_key\": \"bg_8fd9f7f4f1f2b9ae5b1661eef47d472f\", \"passphrase\": \"522723041675\", \"timestamp\": \"1744049299\", \"sign\": \"SfwpUBjfYiLkEgcfRYsbhAVQLqumFfdoxYoxn7tk0vg=\"}]}\u001b[0m\n",
      "\u001b[32m2025-04-07 14:08:18.684\u001b[0m | \u001b[1mINFO    \u001b[0m | \u001b[36mpybitget.stream\u001b[0m:\u001b[36m__login\u001b[0m:\u001b[36m113\u001b[0m - \u001b[1mlogging in......\u001b[0m\n",
      "\u001b[32m2025-04-07 14:08:18.846\u001b[0m | \u001b[34m\u001b[1mDEBUG   \u001b[0m | \u001b[36mpybitget.stream\u001b[0m:\u001b[36m__on_message\u001b[0m:\u001b[36m184\u001b[0m - \u001b[34m\u001b[1mlogin msg : {\"event\":\"login\",\"code\":0}\u001b[0m\n",
      "\u001b[32m2025-04-07 14:08:19.688\u001b[0m | \u001b[34m\u001b[1mDEBUG   \u001b[0m | \u001b[36mpybitget.stream\u001b[0m:\u001b[36msend_message\u001b[0m:\u001b[36m134\u001b[0m - \u001b[34m\u001b[1m{\"op\": \"subscribe\", \"args\": [{\"instType\": \"USDT-FUTURES\", \"channel\": \"account\", \"coin\": \"default\", \"instId\": null}]}\u001b[0m\n"
     ]
    },
    {
     "name": "stderr",
     "output_type": "stream",
     "text": [
      "\u001b[32m2025-04-07 14:08:19.853\u001b[0m | \u001b[1mINFO    \u001b[0m | \u001b[36mpybitget.stream\u001b[0m:\u001b[36mhandle\u001b[0m:\u001b[36m22\u001b[0m - \u001b[1m{\"event\":\"subscribe\",\"arg\":{\"instType\":\"USDT-FUTURES\",\"channel\":\"account\",\"coin\":\"default\"}}\u001b[0m\n",
      "\u001b[32m2025-04-07 14:08:19.859\u001b[0m | \u001b[1mINFO    \u001b[0m | \u001b[36m__main__\u001b[0m:\u001b[36mon_message\u001b[0m:\u001b[36m9\u001b[0m - \u001b[1m{\"action\":\"snapshot\",\"arg\":{\"instType\":\"USDT-FUTURES\",\"channel\":\"account\",\"coin\":\"default\"},\"data\":[{\"marginCoin\":\"USDT\",\"frozen\":\"0.00000000\",\"available\":\"81.30021199\",\"maxOpenPosAvailable\":\"81.30021199\",\"maxTransferOut\":\"81.30021199\",\"equity\":\"81.30021199\",\"usdtEquity\":\"81.300211990000\",\"crossedRiskRate\":\"0\",\"unrealizedPL\":\"0.000000000000\"}],\"ts\":1744049299823}\u001b[0m\n"
     ]
    },
    {
     "name": "stdout",
     "output_type": "stream",
     "text": [
      "the message {\"action\":\"snapshot\",\"arg\":{\"instType\":\"USDT-FUTURES\",\"channel\":\"account\",\"coin\":\"default\"},\"data\":[{\"marginCoin\":\"USDT\",\"frozen\":\"0.00000000\",\"available\":\"81.30021199\",\"maxOpenPosAvailable\":\"81.30021199\",\"maxTransferOut\":\"81.30021199\",\"equity\":\"81.30021199\",\"usdtEquity\":\"81.300211990000\",\"crossedRiskRate\":\"0\",\"unrealizedPL\":\"0.000000000000\"}],\"ts\":1744049299823}\n"
     ]
    },
    {
     "name": "stderr",
     "output_type": "stream",
     "text": [
      "\u001b[32m2025-04-07 14:55:16.485\u001b[0m | \u001b[31m\u001b[1mERROR   \u001b[0m | \u001b[36mpybitget.stream\u001b[0m:\u001b[36m__on_error\u001b[0m:\u001b[36m222\u001b[0m - \u001b[31m\u001b[1mConnection timed out\u001b[0m\n",
      "\u001b[32m2025-04-07 14:55:16.489\u001b[0m | \u001b[1mINFO    \u001b[0m | \u001b[36mpybitget.stream\u001b[0m:\u001b[36m__re_connect\u001b[0m:\u001b[36m235\u001b[0m - \u001b[1mstart reconnection ...\u001b[0m\n",
      "\u001b[32m2025-04-07 14:55:16.490\u001b[0m | \u001b[1mINFO    \u001b[0m | \u001b[36mpybitget.stream\u001b[0m:\u001b[36mbuild\u001b[0m:\u001b[36m76\u001b[0m - \u001b[1mstart connecting...wss://ws.bitget.com/v2/ws/private\u001b[0m\n",
      "\u001b[32m2025-04-07 14:55:17.089\u001b[0m | \u001b[1mINFO    \u001b[0m | \u001b[36mpybitget.stream\u001b[0m:\u001b[36m__on_open\u001b[0m:\u001b[36m166\u001b[0m - \u001b[1mconnection is success....\u001b[0m\n",
      "\u001b[32m2025-04-07 14:55:17.499\u001b[0m | \u001b[34m\u001b[1mDEBUG   \u001b[0m | \u001b[36mpybitget.stream\u001b[0m:\u001b[36msend_message\u001b[0m:\u001b[36m134\u001b[0m - \u001b[34m\u001b[1m{\"op\": \"login\", \"args\": [{\"api_key\": \"bg_8fd9f7f4f1f2b9ae5b1661eef47d472f\", \"passphrase\": \"522723041675\", \"timestamp\": \"1744052117\", \"sign\": \"1RLWyoQe/k3AQablQzBVtnILkwuk/ULURzTHbc4Z8kg=\"}]}\u001b[0m\n",
      "\u001b[32m2025-04-07 14:55:17.501\u001b[0m | \u001b[1mINFO    \u001b[0m | \u001b[36mpybitget.stream\u001b[0m:\u001b[36m__login\u001b[0m:\u001b[36m113\u001b[0m - \u001b[1mlogging in......\u001b[0m\n",
      "\u001b[32m2025-04-07 14:55:17.719\u001b[0m | \u001b[34m\u001b[1mDEBUG   \u001b[0m | \u001b[36mpybitget.stream\u001b[0m:\u001b[36m__on_message\u001b[0m:\u001b[36m184\u001b[0m - \u001b[34m\u001b[1mlogin msg : {\"event\":\"login\",\"code\":0}\u001b[0m\n",
      "\u001b[32m2025-04-07 14:55:18.512\u001b[0m | \u001b[34m\u001b[1mDEBUG   \u001b[0m | \u001b[36mpybitget.stream\u001b[0m:\u001b[36msend_message\u001b[0m:\u001b[36m134\u001b[0m - \u001b[34m\u001b[1m{\"op\": \"subscribe\", \"args\": [{\"instType\": \"USDT-FUTURES\", \"channel\": \"account\", \"coin\": \"default\", \"instId\": null}]}\u001b[0m\n",
      "\u001b[32m2025-04-07 14:55:18.514\u001b[0m | \u001b[1mINFO    \u001b[0m | \u001b[36mpybitget.stream\u001b[0m:\u001b[36m__on_close\u001b[0m:\u001b[36m228\u001b[0m - \u001b[1mws is closeing ......close_status:None,close_msg:None\u001b[0m\n",
      "\u001b[32m2025-04-07 14:55:18.515\u001b[0m | \u001b[1mINFO    \u001b[0m | \u001b[36mpybitget.stream\u001b[0m:\u001b[36m__re_connect\u001b[0m:\u001b[36m235\u001b[0m - \u001b[1mstart reconnection ...\u001b[0m\n",
      "\u001b[32m2025-04-07 14:55:18.515\u001b[0m | \u001b[1mINFO    \u001b[0m | \u001b[36mpybitget.stream\u001b[0m:\u001b[36m__on_close\u001b[0m:\u001b[36m228\u001b[0m - \u001b[1mws is closeing ......close_status:None,close_msg:None\u001b[0m\n",
      "\u001b[32m2025-04-07 14:55:18.516\u001b[0m | \u001b[1mINFO    \u001b[0m | \u001b[36mpybitget.stream\u001b[0m:\u001b[36mbuild\u001b[0m:\u001b[36m76\u001b[0m - \u001b[1mstart connecting...wss://ws.bitget.com/v2/ws/private\u001b[0m\n",
      "\u001b[32m2025-04-07 14:55:19.162\u001b[0m | \u001b[1mINFO    \u001b[0m | \u001b[36mpybitget.stream\u001b[0m:\u001b[36m__on_open\u001b[0m:\u001b[36m166\u001b[0m - \u001b[1mconnection is success....\u001b[0m\n",
      "\u001b[32m2025-04-07 14:55:19.163\u001b[0m | \u001b[31m\u001b[1mERROR   \u001b[0m | \u001b[36mpybitget.stream\u001b[0m:\u001b[36m__on_error\u001b[0m:\u001b[36m222\u001b[0m - \u001b[31m\u001b[1m'NoneType' object has no attribute 'sock'\u001b[0m\n",
      "\u001b[32m2025-04-07 14:55:19.164\u001b[0m | \u001b[1mINFO    \u001b[0m | \u001b[36mpybitget.stream\u001b[0m:\u001b[36m__re_connect\u001b[0m:\u001b[36m235\u001b[0m - \u001b[1mstart reconnection ...\u001b[0m\n",
      "\u001b[32m2025-04-07 14:55:19.165\u001b[0m | \u001b[1mINFO    \u001b[0m | \u001b[36mpybitget.stream\u001b[0m:\u001b[36mbuild\u001b[0m:\u001b[36m76\u001b[0m - \u001b[1mstart connecting...wss://ws.bitget.com/v2/ws/private\u001b[0m\n",
      "\u001b[32m2025-04-07 14:55:19.529\u001b[0m | \u001b[1mINFO    \u001b[0m | \u001b[36mpybitget.stream\u001b[0m:\u001b[36mbuild\u001b[0m:\u001b[36m76\u001b[0m - \u001b[1mstart connecting...wss://ws.bitget.com/v2/ws/private\u001b[0m\n",
      "\u001b[32m2025-04-07 14:55:19.850\u001b[0m | \u001b[1mINFO    \u001b[0m | \u001b[36mpybitget.stream\u001b[0m:\u001b[36m__on_open\u001b[0m:\u001b[36m166\u001b[0m - \u001b[1mconnection is success....\u001b[0m\n",
      "\u001b[32m2025-04-07 14:55:20.174\u001b[0m | \u001b[34m\u001b[1mDEBUG   \u001b[0m | \u001b[36mpybitget.stream\u001b[0m:\u001b[36msend_message\u001b[0m:\u001b[36m134\u001b[0m - \u001b[34m\u001b[1m{\"op\": \"login\", \"args\": [{\"api_key\": \"bg_8fd9f7f4f1f2b9ae5b1661eef47d472f\", \"passphrase\": \"522723041675\", \"timestamp\": \"1744052120\", \"sign\": \"MDHlM/+FQ4JK45+hjU+RenCdZRuCKOz0JlcOlsAQ+Eo=\"}]}\u001b[0m\n",
      "\u001b[32m2025-04-07 14:55:20.176\u001b[0m | \u001b[1mINFO    \u001b[0m | \u001b[36mpybitget.stream\u001b[0m:\u001b[36m__login\u001b[0m:\u001b[36m113\u001b[0m - \u001b[1mlogging in......\u001b[0m\n",
      "\u001b[32m2025-04-07 14:55:20.361\u001b[0m | \u001b[34m\u001b[1mDEBUG   \u001b[0m | \u001b[36mpybitget.stream\u001b[0m:\u001b[36m__on_message\u001b[0m:\u001b[36m184\u001b[0m - \u001b[34m\u001b[1mlogin msg : {\"event\":\"login\",\"code\":0}\u001b[0m\n",
      "\u001b[32m2025-04-07 14:55:20.541\u001b[0m | \u001b[34m\u001b[1mDEBUG   \u001b[0m | \u001b[36mpybitget.stream\u001b[0m:\u001b[36msend_message\u001b[0m:\u001b[36m134\u001b[0m - \u001b[34m\u001b[1m{\"op\": \"login\", \"args\": [{\"api_key\": \"bg_8fd9f7f4f1f2b9ae5b1661eef47d472f\", \"passphrase\": \"522723041675\", \"timestamp\": \"1744052121\", \"sign\": \"EqLRyEGtjQ/mJqdXtQwibn049pE6zFP4UKiAoWzAZqo=\"}]}\u001b[0m\n",
      "\u001b[32m2025-04-07 14:55:20.543\u001b[0m | \u001b[1mINFO    \u001b[0m | \u001b[36mpybitget.stream\u001b[0m:\u001b[36m__login\u001b[0m:\u001b[36m113\u001b[0m - \u001b[1mlogging in......\u001b[0m\n",
      "\u001b[32m2025-04-07 14:55:20.544\u001b[0m | \u001b[34m\u001b[1mDEBUG   \u001b[0m | \u001b[36mpybitget.stream\u001b[0m:\u001b[36msend_message\u001b[0m:\u001b[36m134\u001b[0m - \u001b[34m\u001b[1m{\"op\": \"subscribe\", \"args\": [{\"instType\": \"USDT-FUTURES\", \"channel\": \"account\", \"coin\": \"default\", \"instId\": null}]}\u001b[0m\n",
      "\u001b[32m2025-04-07 14:55:20.704\u001b[0m | \u001b[31m\u001b[1mERROR   \u001b[0m | \u001b[36mpybitget.stream\u001b[0m:\u001b[36mhandel_error\u001b[0m:\u001b[36m25\u001b[0m - \u001b[31m\u001b[1m{\"event\":\"error\",\"code\":30006,\"msg\":\"request too many\"}\u001b[0m\n",
      "\u001b[32m2025-04-07 14:55:20.707\u001b[0m | \u001b[1mINFO    \u001b[0m | \u001b[36mpybitget.stream\u001b[0m:\u001b[36mhandle\u001b[0m:\u001b[36m22\u001b[0m - \u001b[1m{\"event\":\"subscribe\",\"arg\":{\"instType\":\"USDT-FUTURES\",\"channel\":\"account\",\"coin\":\"default\"}}\u001b[0m\n",
      "\u001b[32m2025-04-07 14:55:20.708\u001b[0m | \u001b[1mINFO    \u001b[0m | \u001b[36m__main__\u001b[0m:\u001b[36mon_message\u001b[0m:\u001b[36m9\u001b[0m - \u001b[1m{\"action\":\"snapshot\",\"arg\":{\"instType\":\"USDT-FUTURES\",\"channel\":\"account\",\"coin\":\"default\"},\"data\":[{\"marginCoin\":\"USDT\",\"frozen\":\"0.00000000\",\"available\":\"81.30021199\",\"maxOpenPosAvailable\":\"81.30021199\",\"maxTransferOut\":\"81.30021199\",\"equity\":\"81.30021199\",\"usdtEquity\":\"81.300211990000\",\"crossedRiskRate\":\"0\",\"unrealizedPL\":\"0.000000000000\"}],\"ts\":1744052120680}\u001b[0m\n"
     ]
    },
    {
     "name": "stdout",
     "output_type": "stream",
     "text": [
      "the message {\"action\":\"snapshot\",\"arg\":{\"instType\":\"USDT-FUTURES\",\"channel\":\"account\",\"coin\":\"default\"},\"data\":[{\"marginCoin\":\"USDT\",\"frozen\":\"0.00000000\",\"available\":\"81.30021199\",\"maxOpenPosAvailable\":\"81.30021199\",\"maxTransferOut\":\"81.30021199\",\"equity\":\"81.30021199\",\"usdtEquity\":\"81.300211990000\",\"crossedRiskRate\":\"0\",\"unrealizedPL\":\"0.000000000000\"}],\"ts\":1744052120680}\n"
     ]
    },
    {
     "name": "stderr",
     "output_type": "stream",
     "text": [
      "\u001b[32m2025-04-07 14:55:21.178\u001b[0m | \u001b[34m\u001b[1mDEBUG   \u001b[0m | \u001b[36mpybitget.stream\u001b[0m:\u001b[36msend_message\u001b[0m:\u001b[36m134\u001b[0m - \u001b[34m\u001b[1m{\"op\": \"subscribe\", \"args\": [{\"instType\": \"USDT-FUTURES\", \"channel\": \"account\", \"coin\": \"default\", \"instId\": null}]}\u001b[0m\n",
      "\u001b[32m2025-04-07 14:55:21.179\u001b[0m | \u001b[1mINFO    \u001b[0m | \u001b[36mpybitget.stream\u001b[0m:\u001b[36m__on_close\u001b[0m:\u001b[36m228\u001b[0m - \u001b[1mws is closeing ......close_status:None,close_msg:None\u001b[0m\n",
      "\u001b[32m2025-04-07 14:55:21.525\u001b[0m | \u001b[1mINFO    \u001b[0m | \u001b[36mpybitget.stream\u001b[0m:\u001b[36m__on_close\u001b[0m:\u001b[36m228\u001b[0m - \u001b[1mws is closeing ......close_status:None,close_msg:None\u001b[0m\n",
      "\u001b[32m2025-04-07 14:55:21.527\u001b[0m | \u001b[1mINFO    \u001b[0m | \u001b[36mpybitget.stream\u001b[0m:\u001b[36m__re_connect\u001b[0m:\u001b[36m235\u001b[0m - \u001b[1mstart reconnection ...\u001b[0m\n"
     ]
    }
   ],
   "source": [
    "from pybitget.stream import BitgetWsClient, build_subscribe_req, handel_error\n",
    "\n",
    "from pybitget.enums import *\n",
    "from pybitget import logger\n",
    "\n",
    "#\n",
    "#def on_message(message):\n",
    "#    print(f\"the message {message}\")\n",
    "#    logger.info(message)\n",
    "# #\n",
    "\n",
    "API_KEY = 'bg_8fd9f7f4f1f2b9ae5b1661eef47d472f'\n",
    "API_SECRET = '017ff9852826cf1a30c46af2fabe7d61da87ea5ff6158831eb832d8550d5e565'\n",
    "API_PASSPHRASE = '522723041675'\n",
    "\n",
    "if __name__ == '__main__':\n",
    "\n",
    "    # Auth subscribe\n",
    "    client = BitgetWsClient(api_key=API_KEY,\n",
    "                            api_secret=API_SECRET,\n",
    "                            passphrase=API_PASSPHRASE,\n",
    "                            ws_url=CONTRACT_WS_PRIVATE_URL,\n",
    "                            #ws_url=CONTRACT_WS_PUBLIC_URL,\n",
    "                            verbose=True) \\\n",
    "        .error_listener(handel_error) \\\n",
    "        .build()\n",
    "\n",
    "    # multi subscribe  - Public Channels\n",
    "    #channels = [SubscribeReq(\"USDT-FUTURES\", \"books5\", \"BTCUSDT\")]\n",
    "    #client.subscribe(channels, on_message)\n",
    "\n",
    "    # single subscribe -     # multi subscribe  Public Channels\n",
    "    # channels = [SubscribeReq(\"mc\", \"ticker\", \"BTCUSD\")]\n",
    "    # client.subscribe(channels, on_message)\n",
    "\n",
    "    # single subscribe - Order Channel - Private Channels\n",
    "    # channels = [SubscribeReq(WS_CHANNEL_INSTTYPE, WS_PRIVATE_ORDERS_CHANNEL, WS_CHANNEL_INSTID),\n",
    "    channels =[build_subscribe_req(\"USDT-FUTURES\", \"account\", \"coin\", \"default\")]\n",
    "    '''    \n",
    "               build_subscribe_req(\"USDT-FUTURES\", \"account\", \"coin\", \"default\"),\n",
    "               build_subscribe_req(\"USDT-FUTURES\", \"positions-history\", \"instId\", \"default\"),\n",
    "               build_subscribe_req(\"USDT-FUTURES\", \"orders\", \"instId\", \"default\"),\n",
    "               build_subscribe_req(\"USDT-FUTURES\", \"orders-algo\",\"instId\", \"default\")]\n",
    "    '''\n",
    "                \n",
    "    client.subscribe(channels, on_message)"
   ]
  }
 ],
 "metadata": {
  "kernelspec": {
   "display_name": ".venv",
   "language": "python",
   "name": "python3"
  },
  "language_info": {
   "codemirror_mode": {
    "name": "ipython",
    "version": 3
   },
   "file_extension": ".py",
   "mimetype": "text/x-python",
   "name": "python",
   "nbconvert_exporter": "python",
   "pygments_lexer": "ipython3",
   "version": "3.13.2"
  }
 },
 "nbformat": 4,
 "nbformat_minor": 5
}
