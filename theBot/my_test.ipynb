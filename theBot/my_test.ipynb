{
 "cells": [
  {
   "cell_type": "code",
   "execution_count": null,
   "id": "7947e7ab-430a-4f7d-b00b-567108992d60",
   "metadata": {},
   "outputs": [],
   "source": [
    "########################################################################################\n",
    "###########                       Get All Tickers                            ###########\n",
    "########################################################################################"
   ]
  },
  {
   "cell_type": "code",
   "execution_count": 30,
   "id": "c5565be4-893a-42e8-b45c-04933d6c4358",
   "metadata": {},
   "outputs": [
    {
     "name": "stdout",
     "output_type": "stream",
     "text": [
      "the symbol is BTCUSDT\n",
      "Get All Tickers last price 84180.4\n",
      "Get All Tickers ask price 84180.5\n",
      "Get All Tickers bid price 84180.4\n",
      "Get All Tickers mark price 84180.4\n",
      "Get All Tickers holding Amount 42896.3845 the current positions in the unit of number of coins traded\n"
     ]
    }
   ],
   "source": [
    "import trade_bot.utils.enums as const\n",
    "import pandas as pd\n",
    "from pybitget.exceptions import BitgetAPIException\n",
    "from pybitget import Client\n",
    "\n",
    "client = Client(const.API_KEY, const.SECRET_KEY, const.API_PASSPHRASE, verbose=True)\n",
    "TYPE = 'usdt-futures'  # = 'susdt-futures' for DEMO\n",
    "tickers = client.mix_get_all_tickers(TYPE)\n",
    "df0 = pd.DataFrame(tickers.get('data'))\n",
    "# to select the symbol, one symbol per row \n",
    "line_row = 0\n",
    "symbol = df0.loc[line_row].iloc[0]\n",
    "lastprice = df0.loc[line_row].loc['lastPr']\n",
    "askprice = df0.loc[line_row].loc['askPr']\n",
    "bidprice = df0.loc[line_row].loc['bidPr']\n",
    "markprice = df0.loc[line_row].loc['markPrice']\n",
    "holdingAmount = df0.loc[line_row].loc['holdingAmount']\n",
    "print(f'the symbol is {symbol}')\n",
    "print(f'Get All Tickers last price {lastprice}')\n",
    "print(f'Get All Tickers ask price {askprice}')\n",
    "print(f'Get All Tickers bid price {bidprice}')\n",
    "print(f'Get All Tickers mark price {markprice}')\n",
    "print(f'Get All Tickers holding Amount {holdingAmount} the current positions in the unit of number of coins traded')\n",
    "#df0.head(5)"
   ]
  },
  {
   "cell_type": "code",
   "execution_count": null,
   "id": "60940876-8c0a-42ec-a84d-725fcd9bceae",
   "metadata": {},
   "outputs": [],
   "source": [
    "########################################################################################\n",
    "###########                   Get Candlestick Data                           ###########\n",
    "#                                    Market                                            #\n",
    "########################################################################################"
   ]
  },
  {
   "cell_type": "code",
   "execution_count": 31,
   "id": "8600b9f8-6530-43a2-bcb4-29d213bd4a64",
   "metadata": {},
   "outputs": [
    {
     "name": "stdout",
     "output_type": "stream",
     "text": [
      "Get Candlestick Data mark close price 84180.4\n"
     ]
    }
   ],
   "source": [
    "import time\n",
    "endTime = int(time.time() * 1000)\n",
    "\n",
    "# x 50 pour const.MIN_CANDLES_FOR_INDICATORS\n",
    "freq_5m = '5m'\n",
    "freq_5m_ms = 5 * 60 * 1000 * 50\n",
    "\n",
    "freq_1h = '1H'\n",
    "freq_1h_ms = 1 * 60 * 60 * 1000 * 50\n",
    "\n",
    "freq_6h = '6H'\n",
    "freq_6h_ms = 6 * 60 * 60 * 1000 * 50\n",
    "\n",
    "freq_1D = '1D'\n",
    "freq_1D_ms = 1 * 24 * 60 * 60 * 1000 * 50 \n",
    "\n",
    "startTime = endTime - freq_5m_ms\n",
    "\n",
    "candles = client.mix_get_candles(symbol, TYPE, freq_5m, startTime, endTime, 'mark')\n",
    "columns = ['Date', 'open', 'high', 'low', 'close', 'volume', 'volume Currency']\n",
    "df10 = pd.DataFrame(candles.get('data'), columns=columns)\n",
    "df_lastrow = pd.DataFrame(df10.iloc[-1])\n",
    "kcC = df10.iloc[-1, df10.columns.get_loc('close')]\n",
    "print(f'Get Candlestick Data mark close price {kcC}')\n",
    "\n",
    "#df_lastrow.tail(7)"
   ]
  },
  {
   "cell_type": "code",
   "execution_count": 15,
   "id": "965c2eec-64e9-4309-82b9-cabaeb8d86fb",
   "metadata": {},
   "outputs": [],
   "source": [
    "##########################################################################################\n",
    "###########                   Get Merge Market Depth                           ###########\n",
    "#                                  Asks & Bids                                           #                 \n",
    "##########################################################################################"
   ]
  },
  {
   "cell_type": "code",
   "execution_count": null,
   "id": "5358c602",
   "metadata": {},
   "outputs": [
    {
     "name": "stdout",
     "output_type": "stream",
     "text": [
      "close price = 83180.4\n",
      "\n",
      " index close price found in ask : 0\n",
      "buy order         0        1\n",
      "0   84178  36.6967\n",
      "1   84179   4.3634\n",
      "2   84180   4.8358\n",
      "3   84181   6.3256\n",
      "4   84182   5.0208\n",
      "5   84183   5.7981\n",
      "6   84184   4.8179\n",
      "7   84185   9.3561\n",
      "8   84186   8.3564\n",
      "9   84187   7.2789\n",
      "10  84188   0.0006\n",
      "11  84189   0.0690\n",
      "12  84192   0.2734\n",
      "13  84193   0.0089\n",
      "14  84194   0.0007\n",
      "15  84195   0.0052\n",
      "16  84197   0.0128\n",
      "17  84200   1.2030\n",
      "18  84201   0.1019\n",
      "19  84202   0.0457\n",
      "\n"
     ]
    }
   ],
   "source": [
    "bids_asks = client.mix_get_merge_depth(symbol, TYPE,'scale1', 100)\n",
    "df2_ask = pd.DataFrame(bids_asks.get('data')['asks'])\n",
    "\n",
    "target = float(kcC) - 1000\n",
    "print(f'close price = {target}\\n')\n",
    "\n",
    "# Find the index of the close value in the asks list \n",
    "closest_ask_price_index = (df2_ask.iloc[:,0] - target).abs().idxmin()\n",
    "print(f' index close price found in ask : {closest_ask_price_index}')\n",
    "print(f'buy order {df2_ask.head(20)}\\n')\n",
    "\n",
    "df2_bid = pd.DataFrame(bids_asks.get('data')['bids'])\n",
    "print(f'close price = {target}')\n",
    "\n",
    "# Find the index of the close value in the bid list \n",
    "closest_bid_price_index = (df2_bid.iloc[:,0] - target).abs().idxmin()\n",
    "print(f' index close price found in bid : {closest_bid_price_index}')\n",
    "print(f'sell order {df2_bid.head(20)}')"
   ]
  },
  {
   "cell_type": "code",
   "execution_count": null,
   "id": "21120821-192f-4d73-b675-5f537301138f",
   "metadata": {},
   "outputs": [],
   "source": [
    "########################################################################################\n",
    "###########                    Get Contract Config                           ###########\n",
    "########################################################################################"
   ]
  },
  {
   "cell_type": "code",
   "execution_count": null,
   "id": "508b7d57-7d8d-4969-95ed-2ed6a57a5407",
   "metadata": {},
   "outputs": [],
   "source": [
    "# contrat_config_demo for demo only without symbol\n",
    "#contract = myclient.mix_get_contract_config_demo('SUSDT-FUTURES')\n",
    "# contrat_config for production with symbol\n",
    "contract = client.mix_get_contract_config(symbol, TYPE)\n",
    "df5 = pd.DataFrame(contract.get('data'))\n",
    "\n",
    "#df5.head()"
   ]
  },
  {
   "cell_type": "code",
   "execution_count": null,
   "id": "0c24c2a3-7ef4-4654-bb0c-41b1f9053a84",
   "metadata": {},
   "outputs": [],
   "source": [
    "print(f'the symbol is {symbol}')\n",
    "print(f'Get All Tickers last price {lastprice}')\n",
    "print(f'Get All Tickers ask price {askprice}')\n",
    "print(f'Get All Tickers bid price {bidprice}')\n",
    "print(f'Get All Tickers mark price {markprice}')\n",
    "print(f'Get All Tickers holding Amount {holdingAmount} the current positions in the unit of number of coins traded')\n",
    "print('#######################################################')\n",
    "print(f'Get Candlestick Data mark high price {khC}')\n",
    "print(f'Get Candlestick Data mark low price {klC}')\n",
    "print(f'Get Candlestick Data mark close price {kcC}')\n",
    "print(f'Get Candlestick Data mark volume {kvol}')\n",
    "print('#######################################################')\n",
    "\n",
    "print(f\"Get Merge Market Depth ask average price {av_askprice} scale0\")\n",
    "print(f\"Get Merge Market Depth bid average price {av_bidprice} scale0\")\n",
    "print(f\"Get Merge Market Depth bid average quantity {av_bidquant} scale0\")\n",
    "print(f\"Get Merge Market Depth bid average volume {av_bidquant * av_bidprice} scale0\")\n"
   ]
  },
  {
   "cell_type": "code",
   "execution_count": null,
   "id": "40ab1258-6fcc-4070-934c-8fde3eefbb7c",
   "metadata": {},
   "outputs": [],
   "source": []
  }
 ],
 "metadata": {
  "kernelspec": {
   "display_name": ".venv",
   "language": "python",
   "name": "python3"
  },
  "language_info": {
   "codemirror_mode": {
    "name": "ipython",
    "version": 3
   },
   "file_extension": ".py",
   "mimetype": "text/x-python",
   "name": "python",
   "nbconvert_exporter": "python",
   "pygments_lexer": "ipython3",
   "version": "3.13.2"
  }
 },
 "nbformat": 4,
 "nbformat_minor": 5
}
