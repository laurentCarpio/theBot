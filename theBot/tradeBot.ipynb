{
 "cells": [
  {
   "cell_type": "code",
   "execution_count": null,
   "metadata": {},
   "outputs": [],
   "source": [
    "from trade_bot.utils.trade_logger import logger\n",
    "from trade_bot.my_bitget import MyBitget\n",
    "from trade_bot.extract_transform import ExtractTransform\n",
    "import time\n",
    "\n",
    "\n",
    "# Create a single global instance to connect\n",
    "my_bitget = MyBitget()\n",
    "\n",
    "def find_opportunities():\n",
    "    while True:\n",
    "        for the_symbol in my_bitget.get_all_symbol():\n",
    "            # iterate through all the granularity (frequency)\n",
    "            logger.debug('###########################################')\n",
    "            logger.debug(f'{the_symbol} : checking....')\n",
    "            my_etl = ExtractTransform(the_symbol, my_bitget)\n",
    "            if my_etl.find_candidat():\n",
    "                if my_etl.prep_row():\n",
    "                    logger.info(f'{the_symbol} : validated')\n",
    "                    clientOid = my_bitget.place_order(my_etl.get_row())\n",
    "                    my_etl.display_chart(clientOid, display= False)\n",
    "        logger.info(\"end of the for iteration, go to sleep before new iteration\")\n",
    "        end_time = time.time()  # Record end time\n",
    "        execution_time = end_time - start_time\n",
    "        print(f\"Execution time: {execution_time:.6f} seconds\")\n",
    "        time.sleep(3600)\n",
    "\n",
    "if __name__ == '__main__':\n",
    "     start_time = time.time()  # Record start time\n",
    "     find_opportunities()\n",
    "     print(\"end\")"
   ]
  }
 ],
 "metadata": {
  "kernelspec": {
   "display_name": "venv",
   "language": "python",
   "name": "python3"
  },
  "language_info": {
   "codemirror_mode": {
    "name": "ipython",
    "version": 3
   },
   "file_extension": ".py",
   "mimetype": "text/x-python",
   "name": "python",
   "nbconvert_exporter": "python",
   "pygments_lexer": "ipython3",
   "version": "3.13.2"
  }
 },
 "nbformat": 4,
 "nbformat_minor": 4
}
