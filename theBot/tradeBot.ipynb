{
 "cells": [
  {
   "cell_type": "code",
   "execution_count": 1,
   "metadata": {},
   "outputs": [
    {
     "name": "stdout",
     "output_type": "stream",
     "text": [
      "2025-03-30 22:04:00,611 - INFO - Logging is configured!\n",
      "2025-03-30 22:04:01,070 - INFO - ###########################################\n",
      "2025-03-30 22:04:01,071 - INFO - CROUSDT : validation at frequency 5m\n",
      "2025-03-30 22:04:01,352 - INFO - CROUSDT : good candidat at this 5m\n",
      "2025-03-30 22:04:01,353 - INFO - ###########################################\n",
      "2025-03-30 22:04:01,353 - INFO - CROUSDT : validation at frequency 15m\n",
      "2025-03-30 22:04:01,686 - INFO - CROUSDT : good candidat at this 15m\n",
      "2025-03-30 22:04:01,686 - INFO - ###########################################\n",
      "2025-03-30 22:04:01,687 - INFO - CROUSDT : validation at frequency 30m\n",
      "2025-03-30 22:04:01,918 - INFO - CROUSDT : good candidat at this 30m\n",
      "2025-03-30 22:04:01,918 - INFO - ###########################################\n",
      "2025-03-30 22:04:01,919 - INFO - CROUSDT : validation at frequency 1H\n",
      "2025-03-30 22:04:02,175 - INFO - CROUSDT : good candidat at this 1H\n",
      "2025-03-30 22:04:02,176 - INFO - ###########################################\n",
      "2025-03-30 22:04:02,176 - INFO - CROUSDT : validation at frequency 2H\n",
      "2025-03-30 22:04:02,455 - INFO - CROUSDT : good candidat at this 2H\n",
      "2025-03-30 22:04:02,456 - INFO - ###########################################\n",
      "2025-03-30 22:04:02,456 - INFO - CROUSDT : validation at frequency 4H\n",
      "2025-03-30 22:04:02,714 - INFO - CROUSDT : good candidat at this 4H\n",
      "2025-03-30 22:04:02,715 - INFO - ###########################################\n",
      "2025-03-30 22:04:02,715 - INFO - CROUSDT : validation at frequency 6H\n",
      "2025-03-30 22:04:02,950 - INFO - CROUSDT : good candidat at this 6H\n",
      "2025-03-30 22:04:02,950 - INFO - ###########################################\n",
      "2025-03-30 22:04:02,951 - INFO - CROUSDT : validation at frequency 12H\n",
      "2025-03-30 22:04:03,351 - INFO - CROUSDT : good candidat at this 12H\n",
      "2025-03-30 22:04:03,351 - INFO - ###########################################\n",
      "2025-03-30 22:04:03,352 - INFO - CROUSDT : validation at frequency 1D\n",
      "2025-03-30 22:04:03,613 - INFO - CROUSDT : good candidat at this 1D\n",
      "2025-03-30 22:06:02,928 - INFO - CROUSDT :ratio 0.8040524456041098 failed for trade\n",
      "2025-03-30 22:06:04,079 - INFO - XXXXXXXXXXXXXXXXXXXXXXXXXXXXXXXXXXXXXXXXXXXX\n",
      "the end\n"
     ]
    }
   ],
   "source": [
    "from trade_bot.utils.trade_logger import logger\n",
    "from trade_bot.my_bitget import MyBitget\n",
    "from trade_bot.extract_transform import ExtractTransform\n",
    "import trade_bot.utils.enums as const\n",
    "from trade_bot.my_account import MyAccount\n",
    "# import threading\n",
    "            \n",
    "#########\n",
    "#logging.config.fileConfig(const.CONFIG_LOG_FILE)\n",
    "#logger = logging.getLogger()\n",
    "#_logger = logger\n",
    "#logger.info(\"Logging is configured!\")\n",
    "\n",
    "my_bit = MyBitget()\n",
    "# while True:\n",
    "for the_symbol in my_bit.get_all_symbol():\n",
    "    # iterate through all the granularity (frequency) from the list for validation step 1 \n",
    "    my_etl = ExtractTransform(the_symbol, my_bit)\n",
    "    if my_etl.find_candidat():\n",
    "        if my_etl.prep_row():\n",
    "            logger.info(f'{the_symbol} : all rules has been validated')\n",
    "            my_bit.place_order(my_etl.get_row())\n",
    "                \n",
    "             #contract = my_bit.get_contract(the_symbol)\n",
    "             #self.go_trade_in_thread(prep.get_df_for_trade())\n",
    "             #go_trade(prep.get_df_for_trade())\n",
    "            my_etl.display_chart()\n",
    "print('the end')\n",
    "# time.sleep(5)\n",
    "\n",
    "#def go_trade_in_thread(self, df0):\n",
    " #   thread = threading.Thread(target=self.go_trade, args=(df0,))\n",
    "  #  thread.start()\n",
    "\n",
    "    #  def go_trade(self,df0: pd):\n",
    "    #      df1 = df0\n",
    "    #        myAccount = MyAccount(self._logger, self.client)\n",
    "    #       usdt = myAccount.get_usdt_available()\n",
    " #   print('usdt')\n",
    "    "
   ]
  }
 ],
 "metadata": {
  "kernelspec": {
   "display_name": "venv",
   "language": "python",
   "name": "python3"
  },
  "language_info": {
   "codemirror_mode": {
    "name": "ipython",
    "version": 3
   },
   "file_extension": ".py",
   "mimetype": "text/x-python",
   "name": "python",
   "nbconvert_exporter": "python",
   "pygments_lexer": "ipython3",
   "version": "3.13.2"
  }
 },
 "nbformat": 4,
 "nbformat_minor": 4
}
