{
 "cells": [
  {
   "cell_type": "code",
   "execution_count": null,
   "metadata": {},
   "outputs": [],
   "source": [
    "from trade_bot.utils.trade_logger import logger\n",
    "from trade_bot.my_bitget import MyBitget\n",
    "from trade_bot.extract_transform import ExtractTransform\n",
    "import threading\n",
    "import time\n",
    "\n",
    "\n",
    "# Create a single global instance to connecrr\n",
    "my_bitget = MyBitget()\n",
    "\n",
    "def find_opportunities():\n",
    "    while True:\n",
    "        for the_symbol in my_bitget.get_all_symbol():\n",
    "            # iterate through all the granularity (frequency) from the list for validation step 1 \n",
    "            my_etl = ExtractTransform(the_symbol, my_bitget)\n",
    "            if my_etl.find_candidat():\n",
    "                if my_etl.prep_row():\n",
    "                    logger.info(f'{the_symbol} : all rules has been validated')\n",
    "                    my_bitget.place_order(my_etl.get_row())\n",
    "                    my_etl.display_chart()\n",
    "                    #print(\"Code running...\")\n",
    "                    #input(\"Press Enter to continue...\")\n",
    "                    #print(\"Code resumed.\")\n",
    "                    #print(\"break after the first hit\")\n",
    "                    break\n",
    "        logger.info(\"end of the for iteration, go to sleep before new iteration\")\n",
    "        time.sleep(300)\n",
    "\n",
    "def do_nothing():\n",
    "     while True:\n",
    "         logger.info(\"do nothing\")\n",
    "         time.sleep(20)\n",
    "\n",
    "# Run both functions in parallel\n",
    "#trade_thread = threading.Thread(target=monitor_trade, daemon=True)\n",
    "#opportunity_thread = threading.Thread(target=find_opportunities, daemon=True)\n",
    "\n",
    "#trade_thread.start()\n",
    "#opportunity_thread.start()\n",
    "\n",
    "# Keep the main thread alive\n",
    "#while True:\n",
    "#    time.sleep(1)\n",
    "\n",
    "if __name__ == '__main__':\n",
    "     #do_nothing()\n",
    "     find_opportunities()\n",
    "     print(\"end\")\n",
    "\n",
    "\n",
    "\n",
    "    "
   ]
  }
 ],
 "metadata": {
  "kernelspec": {
   "display_name": ".venv",
   "language": "python",
   "name": "python3"
  },
  "language_info": {
   "codemirror_mode": {
    "name": "ipython",
    "version": 3
   },
   "file_extension": ".py",
   "mimetype": "text/x-python",
   "name": "python",
   "nbconvert_exporter": "python",
   "pygments_lexer": "ipython3",
   "version": "3.13.2"
  }
 },
 "nbformat": 4,
 "nbformat_minor": 4
}
