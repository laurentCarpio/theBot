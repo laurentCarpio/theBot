{
 "cells": [
  {
   "cell_type": "code",
   "execution_count": null,
   "metadata": {},
   "outputs": [
    {
     "name": "stdout",
     "output_type": "stream",
     "text": [
      "2025-04-07 16:14:31,876 - INFO - Logging app is configured!\n"
     ]
    },
    {
     "name": "stderr",
     "output_type": "stream",
     "text": [
      "\u001b[32m2025-04-07 16:14:32.300\u001b[0m | \u001b[1mINFO    \u001b[0m | \u001b[36mpybitget.stream\u001b[0m:\u001b[36mbuild\u001b[0m:\u001b[36m76\u001b[0m - \u001b[1mstart connecting...wss://ws.bitget.com/v2/ws/private\u001b[0m\n"
     ]
    },
    {
     "name": "stdout",
     "output_type": "stream",
     "text": [
      "2025-04-07 16:14:32,813 - INFO - Websocket connected\n"
     ]
    },
    {
     "name": "stderr",
     "output_type": "stream",
     "text": [
      "\u001b[32m2025-04-07 16:14:32.814\u001b[0m | \u001b[1mINFO    \u001b[0m | \u001b[36mpybitget.stream\u001b[0m:\u001b[36m__on_open\u001b[0m:\u001b[36m166\u001b[0m - \u001b[1mconnection is success....\u001b[0m\n",
      "\u001b[32m2025-04-07 16:14:33.304\u001b[0m | \u001b[34m\u001b[1mDEBUG   \u001b[0m | \u001b[36mpybitget.stream\u001b[0m:\u001b[36msend_message\u001b[0m:\u001b[36m134\u001b[0m - \u001b[34m\u001b[1m{\"op\": \"login\", \"args\": [{\"api_key\": \"bg_8fd9f7f4f1f2b9ae5b1661eef47d472f\", \"passphrase\": \"522723041675\", \"timestamp\": \"1744056873\", \"sign\": \"6gjxBjMOOTH2W+d0peyOeveKCUi9ohpPBkq8Df6YvQY=\"}]}\u001b[0m\n",
      "\u001b[32m2025-04-07 16:14:33.304\u001b[0m | \u001b[1mINFO    \u001b[0m | \u001b[36mpybitget.stream\u001b[0m:\u001b[36m__login\u001b[0m:\u001b[36m113\u001b[0m - \u001b[1mlogging in......\u001b[0m\n",
      "\u001b[32m2025-04-07 16:14:33.468\u001b[0m | \u001b[34m\u001b[1mDEBUG   \u001b[0m | \u001b[36mpybitget.stream\u001b[0m:\u001b[36m__on_message\u001b[0m:\u001b[36m184\u001b[0m - \u001b[34m\u001b[1mlogin msg : {\"event\":\"login\",\"code\":0}\u001b[0m\n",
      "\u001b[32m2025-04-07 16:14:34.310\u001b[0m | \u001b[34m\u001b[1mDEBUG   \u001b[0m | \u001b[36mpybitget.stream\u001b[0m:\u001b[36msend_message\u001b[0m:\u001b[36m134\u001b[0m - \u001b[34m\u001b[1m{\"op\": \"subscribe\", \"args\": [{\"instType\": \"USDT-FUTURES\", \"channel\": \"account\", \"coin\": \"default\", \"instId\": null}]}\u001b[0m\n",
      "\u001b[32m2025-04-07 16:14:38.362\u001b[0m | \u001b[1mINFO    \u001b[0m | \u001b[36mpybitget.stream\u001b[0m:\u001b[36m__on_message\u001b[0m:\u001b[36m174\u001b[0m - \u001b[1mKeep connected: pong\u001b[0m\n",
      "\u001b[32m2025-04-07 16:14:38.363\u001b[0m | \u001b[1mINFO    \u001b[0m | \u001b[36mpybitget.stream\u001b[0m:\u001b[36mhandle\u001b[0m:\u001b[36m22\u001b[0m - \u001b[1m{\"event\":\"subscribe\",\"arg\":{\"instType\":\"USDT-FUTURES\",\"channel\":\"account\",\"coin\":\"default\"}}\u001b[0m\n"
     ]
    },
    {
     "name": "stdout",
     "output_type": "stream",
     "text": [
      "2025-04-07 16:14:43,239 - INFO - ###########################################\n",
      "2025-04-07 16:14:43,239 - INFO - DOGSUSDT : validation at frequency 5m\n",
      "2025-04-07 16:14:43,252 - ERROR - Error dispatching message: 'builtin_function_or_method' object has no attribute 'get'\n",
      "2025-04-07 16:14:43,498 - INFO - DOGSUSDT : rule 1 : failed\n",
      "2025-04-07 16:14:43,499 - INFO - ###########################################\n",
      "2025-04-07 16:14:43,499 - INFO - DOGSUSDT : validation at frequency 15m\n",
      "2025-04-07 16:14:43,739 - INFO - DOGSUSDT : rule 1 : failed\n",
      "2025-04-07 16:14:43,739 - INFO - ###########################################\n",
      "2025-04-07 16:14:43,739 - INFO - DOGSUSDT : validation at frequency 30m\n",
      "2025-04-07 16:14:43,986 - INFO - DOGSUSDT : rule 1 : failed\n",
      "2025-04-07 16:14:43,986 - INFO - ###########################################\n",
      "2025-04-07 16:14:43,986 - INFO - DOGSUSDT : validation at frequency 1H\n",
      "2025-04-07 16:14:44,339 - INFO - DOGSUSDT : rule 1 : failed\n",
      "2025-04-07 16:14:44,339 - INFO - ###########################################\n",
      "2025-04-07 16:14:44,339 - INFO - DOGSUSDT : validation at frequency 2H\n",
      "2025-04-07 16:14:44,606 - INFO - DOGSUSDT : rule 1 : failed\n",
      "2025-04-07 16:14:44,606 - INFO - ###########################################\n",
      "2025-04-07 16:14:44,607 - INFO - DOGSUSDT : validation at frequency 4H\n",
      "2025-04-07 16:14:44,916 - INFO - DOGSUSDT : rule 4 :failed\n",
      "2025-04-07 16:14:44,917 - INFO - ###########################################\n",
      "2025-04-07 16:14:44,917 - INFO - DOGSUSDT : validation at frequency 6H\n",
      "2025-04-07 16:14:45,164 - INFO - DOGSUSDT : good candidat at this 6H\n",
      "2025-04-07 16:14:45,164 - INFO - ###########################################\n",
      "2025-04-07 16:14:45,165 - INFO - DOGSUSDT : validation at frequency 12H\n",
      "2025-04-07 16:14:45,405 - INFO - DOGSUSDT : rule 1 : failed\n",
      "2025-04-07 16:14:45,405 - INFO - ###########################################\n",
      "2025-04-07 16:14:45,406 - INFO - DOGSUSDT : validation at frequency 1D\n",
      "2025-04-07 16:14:45,645 - INFO - DOGSUSDT : rule 1 : failed\n",
      "2025-04-07 16:15:54,477 - INFO - the usdt available is under the minTradeUSDT 5.0\n",
      "2025-04-07 16:15:54,548 - ERROR - Error dispatching message: 'builtin_function_or_method' object has no attribute 'get'\n"
     ]
    },
    {
     "name": "stderr",
     "output_type": "stream",
     "text": [
      "\u001b[32m2025-04-07 16:15:54.549\u001b[0m | \u001b[31m\u001b[1mERROR   \u001b[0m | \u001b[36mpybitget.stream\u001b[0m:\u001b[36m__on_error\u001b[0m:\u001b[36m222\u001b[0m - \u001b[31m\u001b[1mConnection to remote host was lost.\u001b[0m\n",
      "\u001b[32m2025-04-07 16:15:54.549\u001b[0m | \u001b[1mINFO    \u001b[0m | \u001b[36mpybitget.stream\u001b[0m:\u001b[36m__re_connect\u001b[0m:\u001b[36m235\u001b[0m - \u001b[1mstart reconnection ...\u001b[0m\n",
      "\u001b[32m2025-04-07 16:15:54.550\u001b[0m | \u001b[1mINFO    \u001b[0m | \u001b[36mpybitget.stream\u001b[0m:\u001b[36mbuild\u001b[0m:\u001b[36m76\u001b[0m - \u001b[1mstart connecting...wss://ws.bitget.com/v2/ws/private\u001b[0m\n"
     ]
    },
    {
     "name": "stdout",
     "output_type": "stream",
     "text": [
      "2025-04-07 16:15:54,707 - INFO - DOGSUSDT : price for trade is : 0.0001146\n",
      "2025-04-07 16:15:54,709 - INFO - DOGSUSDT :ratio 0.5989583333333339 failed for trade\n",
      "2025-04-07 16:15:54,709 - INFO - XXXXXXXXXXXXXXXXXXXXXXXXXXXXXXXXXXXXXXXXXXXX\n"
     ]
    },
    {
     "name": "stdout",
     "output_type": "stream",
     "text": [
      "2025-04-07 16:15:55,284 - INFO - Websocket connected\n"
     ]
    },
    {
     "name": "stderr",
     "output_type": "stream",
     "text": [
      "\u001b[32m2025-04-07 16:15:55.284\u001b[0m | \u001b[1mINFO    \u001b[0m | \u001b[36mpybitget.stream\u001b[0m:\u001b[36m__on_open\u001b[0m:\u001b[36m166\u001b[0m - \u001b[1mconnection is success....\u001b[0m\n",
      "\u001b[32m2025-04-07 16:15:55.555\u001b[0m | \u001b[34m\u001b[1mDEBUG   \u001b[0m | \u001b[36mpybitget.stream\u001b[0m:\u001b[36msend_message\u001b[0m:\u001b[36m134\u001b[0m - \u001b[34m\u001b[1m{\"op\": \"login\", \"args\": [{\"api_key\": \"bg_8fd9f7f4f1f2b9ae5b1661eef47d472f\", \"passphrase\": \"522723041675\", \"timestamp\": \"1744056956\", \"sign\": \"FK3ms4D3wn5BbxizJVCKt80xI/DZOM/69Glq0eghqoM=\"}]}\u001b[0m\n",
      "\u001b[32m2025-04-07 16:15:55.556\u001b[0m | \u001b[1mINFO    \u001b[0m | \u001b[36mpybitget.stream\u001b[0m:\u001b[36m__login\u001b[0m:\u001b[36m113\u001b[0m - \u001b[1mlogging in......\u001b[0m\n",
      "\u001b[32m2025-04-07 16:15:55.726\u001b[0m | \u001b[34m\u001b[1mDEBUG   \u001b[0m | \u001b[36mpybitget.stream\u001b[0m:\u001b[36m__on_message\u001b[0m:\u001b[36m184\u001b[0m - \u001b[34m\u001b[1mlogin msg : {\"event\":\"login\",\"code\":0}\u001b[0m\n",
      "\u001b[32m2025-04-07 16:15:56.561\u001b[0m | \u001b[34m\u001b[1mDEBUG   \u001b[0m | \u001b[36mpybitget.stream\u001b[0m:\u001b[36msend_message\u001b[0m:\u001b[36m134\u001b[0m - \u001b[34m\u001b[1m{\"op\": \"subscribe\", \"args\": [{\"instType\": \"USDT-FUTURES\", \"channel\": \"account\", \"coin\": \"default\", \"instId\": null}]}\u001b[0m\n"
     ]
    },
    {
     "name": "stdout",
     "output_type": "stream",
     "text": [
      "2025-04-07 16:15:56,561 - ERROR - Connection to remote host was lost. - goodbye\n"
     ]
    },
    {
     "name": "stderr",
     "output_type": "stream",
     "text": [
      "\u001b[32m2025-04-07 16:15:56.562\u001b[0m | \u001b[1mINFO    \u001b[0m | \u001b[36mpybitget.stream\u001b[0m:\u001b[36m__on_close\u001b[0m:\u001b[36m228\u001b[0m - \u001b[1mws is closeing ......close_status:None,close_msg:None\u001b[0m\n",
      "\u001b[32m2025-04-07 16:15:56.725\u001b[0m | \u001b[1mINFO    \u001b[0m | \u001b[36mpybitget.stream\u001b[0m:\u001b[36m__on_close\u001b[0m:\u001b[36m228\u001b[0m - \u001b[1mws is closeing ......close_status:None,close_msg:None\u001b[0m\n",
      "\u001b[32m2025-04-07 16:15:56.726\u001b[0m | \u001b[1mINFO    \u001b[0m | \u001b[36mpybitget.stream\u001b[0m:\u001b[36m__re_connect\u001b[0m:\u001b[36m235\u001b[0m - \u001b[1mstart reconnection ...\u001b[0m\n",
      "\u001b[32m2025-04-07 16:15:56.727\u001b[0m | \u001b[1mINFO    \u001b[0m | \u001b[36mpybitget.stream\u001b[0m:\u001b[36mbuild\u001b[0m:\u001b[36m76\u001b[0m - \u001b[1mstart connecting...wss://ws.bitget.com/v2/ws/private\u001b[0m\n"
     ]
    },
    {
     "name": "stdout",
     "output_type": "stream",
     "text": [
      "2025-04-07 16:15:57,372 - INFO - Websocket connected\n"
     ]
    },
    {
     "name": "stderr",
     "output_type": "stream",
     "text": [
      "\u001b[32m2025-04-07 16:15:57.372\u001b[0m | \u001b[1mINFO    \u001b[0m | \u001b[36mpybitget.stream\u001b[0m:\u001b[36m__on_open\u001b[0m:\u001b[36m166\u001b[0m - \u001b[1mconnection is success....\u001b[0m\n",
      "\u001b[32m2025-04-07 16:15:57.733\u001b[0m | \u001b[34m\u001b[1mDEBUG   \u001b[0m | \u001b[36mpybitget.stream\u001b[0m:\u001b[36msend_message\u001b[0m:\u001b[36m134\u001b[0m - \u001b[34m\u001b[1m{\"op\": \"login\", \"args\": [{\"api_key\": \"bg_8fd9f7f4f1f2b9ae5b1661eef47d472f\", \"passphrase\": \"522723041675\", \"timestamp\": \"1744056958\", \"sign\": \"v86Ny7gn9Tg+oC7kXlZiW4TIYFjLrXA1rlCGxjX4Zd4=\"}]}\u001b[0m\n",
      "\u001b[32m2025-04-07 16:15:57.733\u001b[0m | \u001b[1mINFO    \u001b[0m | \u001b[36mpybitget.stream\u001b[0m:\u001b[36m__login\u001b[0m:\u001b[36m113\u001b[0m - \u001b[1mlogging in......\u001b[0m\n",
      "\u001b[32m2025-04-07 16:15:57.894\u001b[0m | \u001b[34m\u001b[1mDEBUG   \u001b[0m | \u001b[36mpybitget.stream\u001b[0m:\u001b[36m__on_message\u001b[0m:\u001b[36m184\u001b[0m - \u001b[34m\u001b[1mlogin msg : {\"event\":\"login\",\"code\":0}\u001b[0m\n",
      "\u001b[32m2025-04-07 16:15:58.736\u001b[0m | \u001b[34m\u001b[1mDEBUG   \u001b[0m | \u001b[36mpybitget.stream\u001b[0m:\u001b[36msend_message\u001b[0m:\u001b[36m134\u001b[0m - \u001b[34m\u001b[1m{\"op\": \"subscribe\", \"args\": [{\"instType\": \"USDT-FUTURES\", \"channel\": \"account\", \"coin\": \"default\", \"instId\": null}]}\u001b[0m\n",
      "\u001b[32m2025-04-07 16:15:58.895\u001b[0m | \u001b[1mINFO    \u001b[0m | \u001b[36mpybitget.stream\u001b[0m:\u001b[36m__on_message\u001b[0m:\u001b[36m174\u001b[0m - \u001b[1mKeep connected: pong\u001b[0m\n",
      "\u001b[32m2025-04-07 16:15:58.896\u001b[0m | \u001b[1mINFO    \u001b[0m | \u001b[36mpybitget.stream\u001b[0m:\u001b[36mhandle\u001b[0m:\u001b[36m22\u001b[0m - \u001b[1m{\"event\":\"subscribe\",\"arg\":{\"instType\":\"USDT-FUTURES\",\"channel\":\"account\",\"coin\":\"default\"}}\u001b[0m\n"
     ]
    },
    {
     "name": "stdout",
     "output_type": "stream",
     "text": [
      "2025-04-07 16:15:58,898 - ERROR - Error dispatching message: 'builtin_function_or_method' object has no attribute 'get'\n"
     ]
    }
   ],
   "source": [
    "from trade_bot.utils.trade_logger import logger\n",
    "from trade_bot.my_bitget import MyBitget\n",
    "#from trade_bot.my_orders import is_order_open, process_trigger_order\n",
    "from trade_bot.extract_transform import ExtractTransform\n",
    "from trade_bot.utils.tools import get_files_fifo, read_order_file\n",
    "import trade_bot.utils.enums as const\n",
    "import threading\n",
    "import time\n",
    "\n",
    "\n",
    "# Create a single global instance to connecrr\n",
    "my_bitget = MyBitget()\n",
    "\n",
    "def find_opportunities():\n",
    "    #while True:\n",
    "        for the_symbol in my_bitget.get_all_symbol():\n",
    "            # iterate through all the granularity (frequency) from the list for validation step 1 \n",
    "            my_etl = ExtractTransform(the_symbol, my_bitget)\n",
    "            if my_etl.find_candidat():\n",
    "                if my_etl.prep_row():\n",
    "                    logger.info(f'{the_symbol} : all rules has been validated')\n",
    "                    #my_bitget.place_order(my_etl.get_row())\n",
    "                    #self.go_trade_in_thread(prep.get_df_for_trade())\n",
    "                    #go_trade(prep.get_df_for_trade())\n",
    "                    my_etl.display_chart()\n",
    "        logger.debug(\"end of the for iteration, go to sleep before new iteration\")\n",
    "    #    time.sleep(1)\n",
    "\n",
    "'''\n",
    "def monitor_trade():\n",
    "    while True:\n",
    "        # Iterate through files in FIFO order and process them\n",
    "        files = get_files_fifo(const.SUCCESS_OPEN_TRADE_DIR)\n",
    "        for file in files:\n",
    "            # get the dataFrame from the file\n",
    "            df_row = read_order_file(file)\n",
    "            if is_order_open(my_bitget, df_row, file):\n",
    "                # the order is not cancelled or closed \n",
    "                process_trigger_order(my_bitget, df_row)\n",
    "'''  \n",
    "\n",
    "# Run both functions in parallel\n",
    "#trade_thread = threading.Thread(target=monitor_trade, daemon=True)\n",
    "#opportunity_thread = threading.Thread(target=find_opportunities, daemon=True)\n",
    "\n",
    "#trade_thread.start()\n",
    "#opportunity_thread.start()\n",
    "\n",
    "# Keep the main thread alive\n",
    "#while True:\n",
    "#    time.sleep(1)\n",
    "\n",
    "if __name__ == '__main__':\n",
    "     find_opportunities()\n",
    "\n",
    "\n",
    "    "
   ]
  }
 ],
 "metadata": {
  "kernelspec": {
   "display_name": ".venv",
   "language": "python",
   "name": "python3"
  },
  "language_info": {
   "codemirror_mode": {
    "name": "ipython",
    "version": 3
   },
   "file_extension": ".py",
   "mimetype": "text/x-python",
   "name": "python",
   "nbconvert_exporter": "python",
   "pygments_lexer": "ipython3",
   "version": "3.13.2"
  }
 },
 "nbformat": 4,
 "nbformat_minor": 4
}
