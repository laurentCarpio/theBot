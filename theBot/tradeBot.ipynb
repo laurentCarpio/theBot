{
 "cells": [
  {
   "cell_type": "code",
   "execution_count": null,
   "metadata": {},
   "outputs": [],
   "source": [
    "import logging.config\n",
    "from trade_bot.utils.trade_logger import logger\n",
    "from trade_bot.my_bitget import MyBitget\n",
    "from trade_bot.my_order import MyOrder\n",
    "from trade_bot.extract_transform import ExtractTransform\n",
    "import trade_bot.utils.enums as const\n",
    "from trade_bot.my_account import MyAccount\n",
    "# import threading\n",
    "            \n",
    "#########\n",
    "#logging.config.fileConfig(const.CONFIG_LOG_FILE)\n",
    "#logger = logging.getLogger()\n",
    "#_logger = logger\n",
    "logger.info(\"Logging is configured!\")\n",
    "\n",
    "my_bit = MyBitget()\n",
    "# while True:\n",
    "for the_symbol in my_bit.get_all_symbol():\n",
    "    # iterate through all the granularity (frequency) from the list for validation step 1 \n",
    "    my_etl = ExtractTransform(the_symbol, my_bit)\n",
    "    if my_etl.find_candidat():\n",
    "        if my_etl.prep_row():\n",
    "            logger.info(f'{the_symbol} : all rules has been validated')\n",
    "            usdt_avail = my_bit.get_usdt_per_trade()\n",
    "            if usdt_avail > 0.0:    # must be 10$ after debug \n",
    "                my_order = MyOrder(my_etl.get_row(),my_bit.get_client())\n",
    "\n",
    "\n",
    "           \n",
    "\n",
    "\n",
    "            #contract = my_bit.get_contract(the_symbol)\n",
    "            # self.go_trade_in_thread(prep.get_df_for_trade())\n",
    "            # self.go_trade(prep.get_df_for_trade())\n",
    "            my_etl.display_chart()\n",
    "print('the end')\n",
    "# time.sleep(5)\n",
    "\n",
    "#def go_trade_in_thread(self, df0):\n",
    " #   thread = threading.Thread(target=self.go_trade, args=(df0,))\n",
    "  #  thread.start()\n",
    "\n",
    "    #  def go_trade(self,df0: pd):\n",
    "    #      df1 = df0\n",
    "    #        myAccount = MyAccount(self._logger, self.client)\n",
    "    #       usdt = myAccount.get_usdt_available()\n",
    " #   print('usdt')\n",
    "    \n",
    "# myTrades.get_bids_and_asks('BTCUSDT')\n",
    "# myTrades.get_all_positions()\n",
    "# myTrades.get_position('BTCUSDT')\n",
    "# myTrades.get_account_info('BTCUSDT')\n",
    "\n"
   ]
  },
  {
   "cell_type": "code",
   "execution_count": null,
   "metadata": {},
   "outputs": [],
   "source": []
  }
 ],
 "metadata": {
  "kernelspec": {
   "display_name": ".venv",
   "language": "python",
   "name": "python3"
  },
  "language_info": {
   "codemirror_mode": {
    "name": "ipython",
    "version": 3
   },
   "file_extension": ".py",
   "mimetype": "text/x-python",
   "name": "python",
   "nbconvert_exporter": "python",
   "pygments_lexer": "ipython3",
   "version": "3.13.2"
  }
 },
 "nbformat": 4,
 "nbformat_minor": 4
}
