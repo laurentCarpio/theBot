{
 "cells": [
  {
   "cell_type": "code",
   "execution_count": 1,
   "metadata": {},
   "outputs": [
    {
     "name": "stdout",
     "output_type": "stream",
     "text": [
      "2025-03-28 23:25:58,197 - INFO - Logging is configured!\n",
      "2025-03-28 23:25:58,595 - INFO - ###########################################\n",
      "2025-03-28 23:25:58,596 - INFO - AGLDUSDT : validation at frequency 5m\n",
      "2025-03-28 23:25:58,602 - DEBUG - Starting new HTTPS connection (1): api.bitget.com:443\n",
      "2025-03-28 23:25:58,831 - DEBUG - https://api.bitget.com:443 \"GET /api/v2/mix/market/candles?symbol=AGLDUSDT&productType=USDT-FUTURES&granularity=5m&startTime=1743203758596&endTime=1743218758596&kLineType=mark&limit=50 HTTP/1.1\" 200 None\n",
      "2025-03-28 23:25:58,839 - DEBUG - AGLDUSDT : getting ohclv data\n",
      "2025-03-28 23:25:58,858 - DEBUG - AGLDUSDT : ohclv processed at <5 * Minutes> index frequency\n",
      "2025-03-28 23:25:58,872 - DEBUG - AGLDUSDT : all indicators has been calculated\n",
      "2025-03-28 23:25:58,879 - DEBUG - AGLDUSDT all the crossing and touching have been added\n",
      "2025-03-28 23:25:58,881 - DEBUG - AGLDUSDT : rule 1 : passed\n"
     ]
    },
    {
     "ename": "NameError",
     "evalue": "name 'df1' is not defined",
     "output_type": "error",
     "traceback": [
      "\u001b[31m---------------------------------------------------------------------------\u001b[39m",
      "\u001b[31mNameError\u001b[39m                                 Traceback (most recent call last)",
      "\u001b[36mCell\u001b[39m\u001b[36m \u001b[39m\u001b[32mIn[1]\u001b[39m\u001b[32m, line 19\u001b[39m\n\u001b[32m     16\u001b[39m \u001b[38;5;28;01mfor\u001b[39;00m the_symbol \u001b[38;5;129;01min\u001b[39;00m my_bit.get_all_symbol():\n\u001b[32m     17\u001b[39m     \u001b[38;5;66;03m# iterate through all the granularity (frequency) from the list for validation step 1 \u001b[39;00m\n\u001b[32m     18\u001b[39m     my_etl = ExtractTransform(the_symbol, my_bit)\n\u001b[32m---> \u001b[39m\u001b[32m19\u001b[39m     \u001b[38;5;28;01mif\u001b[39;00m \u001b[43mmy_etl\u001b[49m\u001b[43m.\u001b[49m\u001b[43mfind_candidat\u001b[49m\u001b[43m(\u001b[49m\u001b[43m)\u001b[49m:\n\u001b[32m     20\u001b[39m         \u001b[38;5;28;01mif\u001b[39;00m my_etl.prep_row():\n\u001b[32m     21\u001b[39m             logger.info(\u001b[33mf\u001b[39m\u001b[33m'\u001b[39m\u001b[38;5;132;01m{\u001b[39;00mthe_symbol\u001b[38;5;132;01m}\u001b[39;00m\u001b[33m : all rules has been validated\u001b[39m\u001b[33m'\u001b[39m)\n",
      "\u001b[36mFile \u001b[39m\u001b[32m~/Documents/Python/theBot/theBot/trade_bot/extract_transform.py:55\u001b[39m, in \u001b[36mExtractTransform.find_candidat\u001b[39m\u001b[34m(self)\u001b[39m\n\u001b[32m     53\u001b[39m \u001b[38;5;28mself\u001b[39m.set_data(\u001b[38;5;28mself\u001b[39m._mybit.get_candles(\u001b[38;5;28mself\u001b[39m._symbol, freq))\n\u001b[32m     54\u001b[39m \u001b[38;5;28;01mif\u001b[39;00m \u001b[38;5;28mself\u001b[39m._prepare_data_for(freq_to_resample(freq)):\n\u001b[32m---> \u001b[39m\u001b[32m55\u001b[39m     \u001b[38;5;28;01mif\u001b[39;00m \u001b[38;5;28;43mself\u001b[39;49m\u001b[43m.\u001b[49m\u001b[43m_myStrat\u001b[49m\u001b[43m.\u001b[49m\u001b[43mvalidate_rules\u001b[49m\u001b[43m(\u001b[49m\u001b[38;5;28;43mself\u001b[39;49m\u001b[43m.\u001b[49m\u001b[43m_df_data\u001b[49m\u001b[43m.\u001b[49m\u001b[43miloc\u001b[49m\u001b[43m[\u001b[49m\u001b[43mconst\u001b[49m\u001b[43m.\u001b[49m\u001b[43mSTRATEGY_WINDOW\u001b[49m\u001b[43m:\u001b[49m\u001b[43m]\u001b[49m\u001b[43m.\u001b[49m\u001b[43mcopy\u001b[49m\u001b[43m(\u001b[49m\u001b[43m)\u001b[49m\u001b[43m)\u001b[49m:\n\u001b[32m     56\u001b[39m         \u001b[38;5;66;03m# the next good candidat replace the last one found\u001b[39;00m\n\u001b[32m     57\u001b[39m         logger.info(\u001b[33mf\u001b[39m\u001b[33m'\u001b[39m\u001b[38;5;132;01m{\u001b[39;00m\u001b[38;5;28mself\u001b[39m._symbol\u001b[38;5;132;01m}\u001b[39;00m\u001b[33m : good candidat at this \u001b[39m\u001b[38;5;132;01m{\u001b[39;00mfreq\u001b[38;5;132;01m}\u001b[39;00m\u001b[33m'\u001b[39m)\n\u001b[32m     58\u001b[39m         \u001b[38;5;28mself\u001b[39m._set_candidat(\u001b[38;5;28mself\u001b[39m.get_data(), freq)\n",
      "\u001b[36mFile \u001b[39m\u001b[32m~/Documents/Python/theBot/theBot/trade_bot/my_strategy.py:31\u001b[39m, in \u001b[36mMyStrategy.validate_rules\u001b[39m\u001b[34m(self, df1)\u001b[39m\n\u001b[32m     15\u001b[39m \u001b[38;5;28;01mdef\u001b[39;00m\u001b[38;5;250m \u001b[39m\u001b[34mvalidate_rules\u001b[39m(\u001b[38;5;28mself\u001b[39m, df1: pd) -> \u001b[38;5;28mbool\u001b[39m:\n\u001b[32m     16\u001b[39m     \u001b[38;5;66;03m#########################################################################################################################\u001b[39;00m\n\u001b[32m     17\u001b[39m     \u001b[38;5;66;03m#    Rule 1 : at least one crossing_kc(l,u) one touching bb(l,u) and one crossing hma both in that order\u001b[39;00m\n\u001b[32m   (...)\u001b[39m\u001b[32m     28\u001b[39m     \u001b[38;5;66;03m#           : long  : the highest price between last_bbu and last_hma cannot be higher than 5% of hma crossing price\u001b[39;00m\n\u001b[32m     29\u001b[39m     \u001b[38;5;66;03m#########################################################################################################################\u001b[39;00m\n\u001b[32m     30\u001b[39m     \u001b[38;5;28;01mif\u001b[39;00m \u001b[38;5;28mself\u001b[39m._rule1(df1):\n\u001b[32m---> \u001b[39m\u001b[32m31\u001b[39m         \u001b[38;5;28;01mif\u001b[39;00m \u001b[38;5;28;43mself\u001b[39;49m\u001b[43m.\u001b[49m\u001b[43m_rule2\u001b[49m\u001b[43m(\u001b[49m\u001b[43mdf1\u001b[49m\u001b[43m)\u001b[49m:\n\u001b[32m     32\u001b[39m             \u001b[38;5;28;01mif\u001b[39;00m \u001b[38;5;28mself\u001b[39m._rule3(df1):\n\u001b[32m     33\u001b[39m                 \u001b[38;5;28;01mif\u001b[39;00m \u001b[38;5;28mself\u001b[39m._rule4(df1):\n",
      "\u001b[36mFile \u001b[39m\u001b[32m~/Documents/Python/theBot/theBot/trade_bot/my_strategy.py:86\u001b[39m, in \u001b[36mMyStrategy._rule2\u001b[39m\u001b[34m(self, df0)\u001b[39m\n\u001b[32m     83\u001b[39m \u001b[38;5;28;01mdef\u001b[39;00m\u001b[38;5;250m \u001b[39m\u001b[34m_rule2\u001b[39m(\u001b[38;5;28mself\u001b[39m, df0: pd) -> \u001b[38;5;28mbool\u001b[39m:  \n\u001b[32m     84\u001b[39m     \u001b[38;5;66;03m# get all the row from the last_hma (included) till the end\u001b[39;00m\n\u001b[32m     85\u001b[39m     last_index = df0[df0[\u001b[33m'\u001b[39m\u001b[33mcrossing_hma\u001b[39m\u001b[33m'\u001b[39m] == \u001b[38;5;28;01mTrue\u001b[39;00m].index[-\u001b[32m1\u001b[39m]\n\u001b[32m---> \u001b[39m\u001b[32m86\u001b[39m     df_at_hma_and_after = \u001b[43mdf1\u001b[49m[df1.index >= last_index]\n\u001b[32m     87\u001b[39m     \u001b[38;5;28;01mif\u001b[39;00m df_at_hma_and_after[\u001b[33m\"\u001b[39m\u001b[33mcrossing_bbm\u001b[39m\u001b[33m\"\u001b[39m].any():\n\u001b[32m     88\u001b[39m         logger.info(\u001b[33mf\u001b[39m\u001b[33m'\u001b[39m\u001b[38;5;132;01m{\u001b[39;00m\u001b[38;5;28mself\u001b[39m._symbol\u001b[38;5;132;01m}\u001b[39;00m\u001b[33m : rule 2 : failed\u001b[39m\u001b[33m'\u001b[39m)\n",
      "\u001b[31mNameError\u001b[39m: name 'df1' is not defined"
     ]
    }
   ],
   "source": [
    "from trade_bot.utils.trade_logger import logger\n",
    "from trade_bot.my_bitget import MyBitget\n",
    "from trade_bot.extract_transform import ExtractTransform\n",
    "import trade_bot.utils.enums as const\n",
    "from trade_bot.my_account import MyAccount\n",
    "# import threading\n",
    "            \n",
    "#########\n",
    "#logging.config.fileConfig(const.CONFIG_LOG_FILE)\n",
    "#logger = logging.getLogger()\n",
    "#_logger = logger\n",
    "#logger.info(\"Logging is configured!\")\n",
    "\n",
    "my_bit = MyBitget()\n",
    "# while True:\n",
    "for the_symbol in my_bit.get_all_symbol():\n",
    "    # iterate through all the granularity (frequency) from the list for validation step 1 \n",
    "    my_etl = ExtractTransform(the_symbol, my_bit)\n",
    "    if my_etl.find_candidat():\n",
    "        if my_etl.prep_row():\n",
    "            logger.info(f'{the_symbol} : all rules has been validated')\n",
    "            _row = my_etl.get_row()\n",
    "            my_bit.place_order( the_symbol,\n",
    "                               _row['side'], \n",
    "                               _row['price'], \n",
    "                               _row['presetTakeProfitPrice'], \n",
    "                               _row['presetStopLossPrice'])\n",
    "                \n",
    "             #contract = my_bit.get_contract(the_symbol)\n",
    "             #self.go_trade_in_thread(prep.get_df_for_trade())\n",
    "             #go_trade(prep.get_df_for_trade())\n",
    "            my_etl.display_chart()\n",
    "print('the end')\n",
    "# time.sleep(5)\n",
    "\n",
    "#def go_trade_in_thread(self, df0):\n",
    " #   thread = threading.Thread(target=self.go_trade, args=(df0,))\n",
    "  #  thread.start()\n",
    "\n",
    "    #  def go_trade(self,df0: pd):\n",
    "    #      df1 = df0\n",
    "    #        myAccount = MyAccount(self._logger, self.client)\n",
    "    #       usdt = myAccount.get_usdt_available()\n",
    " #   print('usdt')\n",
    "    "
   ]
  }
 ],
 "metadata": {
  "kernelspec": {
   "display_name": ".venv",
   "language": "python",
   "name": "python3"
  },
  "language_info": {
   "codemirror_mode": {
    "name": "ipython",
    "version": 3
   },
   "file_extension": ".py",
   "mimetype": "text/x-python",
   "name": "python",
   "nbconvert_exporter": "python",
   "pygments_lexer": "ipython3",
   "version": "3.13.2"
  }
 },
 "nbformat": 4,
 "nbformat_minor": 4
}
